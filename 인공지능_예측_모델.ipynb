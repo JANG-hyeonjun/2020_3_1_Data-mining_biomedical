{
  "nbformat": 4,
  "nbformat_minor": 0,
  "metadata": {
    "colab": {
      "name": "인공지능 예측 모델.ipynb",
      "provenance": [],
      "include_colab_link": true
    },
    "kernelspec": {
      "name": "python3",
      "display_name": "Python 3"
    },
    "accelerator": "GPU"
  },
  "cells": [
    {
      "cell_type": "markdown",
      "metadata": {
        "id": "view-in-github",
        "colab_type": "text"
      },
      "source": [
        "<a href=\"https://colab.research.google.com/github/JANG-hyeonjun/git_hub-test/blob/master/%EC%9D%B8%EA%B3%B5%EC%A7%80%EB%8A%A5_%EC%98%88%EC%B8%A1_%EB%AA%A8%EB%8D%B8.ipynb\" target=\"_parent\"><img src=\"https://colab.research.google.com/assets/colab-badge.svg\" alt=\"Open In Colab\"/></a>"
      ]
    },
    {
      "cell_type": "code",
      "metadata": {
        "id": "AgMhsG5l7SS-",
        "colab_type": "code",
        "colab": {}
      },
      "source": [
        "from google.colab import drive\n",
        "drive.mount('/content/drive')"
      ],
      "execution_count": null,
      "outputs": []
    },
    {
      "cell_type": "code",
      "metadata": {
        "id": "UoSKY2IL6Ig5",
        "colab_type": "code",
        "colab": {}
      },
      "source": [
        "from keras.models import Sequential\n",
        "from keras.layers import Dense\n",
        "import numpy\n",
        "from urllib import request\n",
        "import matplotlib.pyplot as plt\n",
        "%matplotlib inline \n",
        "\n",
        "# 데이터 세트의 URL을 설정\n",
        "#url = \"http://archive.ics.uci.edu/ml/machine-learning-databases/pima-indians-diabetes/pima-indians-diabetes.data\"\n",
        "#f = request.urlopen(url)\n",
        "\n",
        "# google drive\n",
        "url  = '/content/drive/My Drive/hufs/Data Mining/demacia 2차 수정.csv'\n",
        "#url  = '/content/drive/My Drive/hufs/Data Mining/grade인공지능용.csv'\n",
        "f = open(url)\n",
        "\n",
        "\n",
        "# random seed for reproducibility\n",
        "numpy.random.seed(2)\n",
        "\n",
        "# 데이터 세트를 불러옵니다. \n",
        "dataset = numpy.loadtxt(f, delimiter=\",\")"
      ],
      "execution_count": null,
      "outputs": []
    },
    {
      "cell_type": "code",
      "metadata": {
        "id": "pMXhtZ0lRpzv",
        "colab_type": "code",
        "colab": {
          "base_uri": "https://localhost:8080/",
          "height": 70
        },
        "outputId": "d49dc0af-f85d-4558-ef5d-730a37c1a82b"
      },
      "source": [
        "# 데이터세트를 두 가지 원인(X) 과 결과(Y)로 나누어 줍니다. \n",
        "#X = dataset[:,0:5]\n",
        "#Y = dataset[:,5]\n",
        "\n",
        "X = dataset[:,0:8]\n",
        "Y = dataset[:,8]\n",
        "\n",
        "# create model, add dense layers one by one specifying activation function\n",
        "model = Sequential()\n",
        "model.add(Dense(12, input_dim=8, activation='relu')) # input layer requires input_dim param\n",
        "model.add(Dense(15, activation='relu'))\n",
        "model.add(Dense(8, activation='relu'))\n",
        "model.add(Dense(10, activation='relu'))\n",
        "model.add(Dense(1, activation='sigmoid')) # sigmoid instead of relu for final probability between 0 and 1\n",
        "\n",
        "# compile the model, adam gradient descent (optimized)\n",
        "model.compile(loss=\"binary_crossentropy\", optimizer=\"adam\", metrics=['accuracy'])\n",
        "\n",
        "# call the function to fit to the data (training the network)\n",
        "# verbose=0 는 프로그래스를 숨깁니다.\n",
        "history = model.fit(X, Y, epochs = 500, batch_size=10, verbose=0)\n",
        "\n",
        "# 모델의 정확도를 계산합니다.\n",
        "scores = model.evaluate(X, Y)\n",
        "print(\"\\n%s: %.2f%%\" % (model.metrics_names[1], scores[1]*100))"
      ],
      "execution_count": null,
      "outputs": [
        {
          "output_type": "stream",
          "text": [
            "768/768 [==============================] - 0s 67us/step\n",
            "\n",
            "accuracy: 82.55%\n"
          ],
          "name": "stdout"
        }
      ]
    },
    {
      "cell_type": "code",
      "metadata": {
        "id": "QyoJibTuM-LE",
        "colab_type": "code",
        "colab": {
          "base_uri": "https://localhost:8080/",
          "height": 368
        },
        "outputId": "889e5295-36d9-4851-b82f-b05e783cb79e"
      },
      "source": [
        "# Get the figure and the axes\n",
        "fig, (ax0, ax1) = plt.subplots(nrows=1,ncols=2, sharey=False, figsize=(10, 5))\n",
        "\n",
        "# 모델의 정확도를 그립니다.\n",
        "ax0.plot(history.history['accuracy']) \n",
        "ax0.set(title='model accuracy', xlabel='epoch', ylabel='accuracy')\n",
        "\n",
        "# 모델의 오차를 그립니다.\n",
        "ax1.plot(history.history['loss'])\n",
        "ax1.set(title='model loss', xlabel='epoch', ylabel='loss')"
      ],
      "execution_count": null,
      "outputs": [
        {
          "output_type": "execute_result",
          "data": {
            "text/plain": [
              "[Text(0, 0.5, 'loss'), Text(0.5, 0, 'epoch'), Text(0.5, 1.0, 'model loss')]"
            ]
          },
          "metadata": {
            "tags": []
          },
          "execution_count": 39
        },
        {
          "output_type": "display_data",
          "data": {
            "image/png": "[encoded data removed]",
            "text/plain": [
              "<Figure size 720x360 with 2 Axes>"
            ]
          },
          "metadata": {
            "tags": [],
            "needs_background": "light"
          }
        }
      ]
    },
    {
      "cell_type": "code",
      "metadata": {
        "id": "KQqYU1EhSOHK",
        "colab_type": "code",
        "colab": {
          "base_uri": "https://localhost:8080/",
          "height": 35
        },
        "outputId": "79c66793-00a8-486c-c15f-b97612fa2162"
      },
      "source": [
        "# 가상의 환자 데이터 입력\n",
        "patient_1 = numpy.array([[0, 120, 65, 50, 500, 31, 0.47, 70]]) # 마지막 칸이 나이인데 나이에 따라 확률이 확연하게, 유의미하게 바뀌는 것을 확인.\n",
        "\n",
        "#print(patient_1)\n",
        "\n",
        "# 모델로 예측하기\n",
        "prediction = model.predict(patient_1)\n",
        "\n",
        "# 예측결과 출력하기\n",
        "print(prediction*100)"
      ],
      "execution_count": null,
      "outputs": [
        {
          "output_type": "stream",
          "text": [
            "[[36.560062]]\n"
          ],
          "name": "stdout"
        }
      ]
    },
    {
      "cell_type": "code",
      "metadata": {
        "id": "-8HUOW91Vdlo",
        "colab_type": "code",
        "colab": {}
      },
      "source": [
        ""
      ],
      "execution_count": null,
      "outputs": []
    }
  ]
}